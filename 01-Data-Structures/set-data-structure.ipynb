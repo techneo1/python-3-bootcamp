{
 "cells": [
  {
   "cell_type": "code",
   "execution_count": null,
   "metadata": {},
   "outputs": [],
   "source": [
    "# SETS\n",
    "# unordered, mutable, no duplicates\n",
    "# set() constructor\n",
    "# set literal\n",
    "# set comprehension\n",
    "# frozenset() constructor\n",
    "\n",
    "myset = set()\n",
    "myset.add(1)\n",
    "myset.add(2)\n",
    "myset.add(2)\n",
    "print(myset)  # {1, 2}\n",
    "\n",
    "set([1, 1, 2, 3])  # {1, 2, 3}"
   ]
  }
 ],
 "metadata": {
  "kernelspec": {
   "display_name": ".venv",
   "language": "python",
   "name": "python3"
  },
  "language_info": {
   "codemirror_mode": {
    "name": "ipython",
    "version": 3
   },
   "file_extension": ".py",
   "mimetype": "text/x-python",
   "name": "python",
   "nbconvert_exporter": "python",
   "pygments_lexer": "ipython3",
   "version": "3.12.9"
  }
 },
 "nbformat": 4,
 "nbformat_minor": 2
}
