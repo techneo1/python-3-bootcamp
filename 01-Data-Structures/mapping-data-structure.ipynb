{
 "cells": [
  {
   "cell_type": "code",
   "execution_count": null,
   "metadata": {},
   "outputs": [],
   "source": [
    "# DICTIONARIES vs LISTS\n",
    "# A dictionary is a collection of key-value pairs\n",
    "# A list is an ordered collection of items\n",
    "\n",
    "# SIMILARITIES\n",
    "# Both dictionaries and lists are mutable\n",
    "# Both can contain any type of data\n",
    "# Both can be nested\n",
    "\n",
    "# DIFFERENCES\n",
    "# Lists are ordered, dictionaries are unordered\n",
    "# Lists can be indexed, dictionaries cannot\n",
    "# Lists can contain duplicates, dictionaries cannot\n",
    "# Lists are accessed by index, dictionaries are accessed by key\n",
    "# Lists are defined with square brackets, dictionaries with curly braces\n",
    "# Lists are iterable, dictionaries are not\n",
    "# Lists are faster than dictionaries for certain operations\n",
    "# Lists are more memory efficient than dictionaries\n",
    "# Lists are better for storing ordered data, dictionaries for unordered data\n",
    "# Lists are better for storing duplicates, dictionaries for unique data\n",
    "\n",
    "prices_lookup = {\n",
    "    \"apple\": 2.99,\n",
    "    \"banana\": 1.99,\n",
    "    \"orange\": 1.49,\n",
    "    \"grape\": 3.99,\n",
    "}\n",
    "print(prices_lookup[\"apple\"])\n",
    "print(prices_lookup.keys())\n",
    "print(prices_lookup.values())\n",
    "print(prices_lookup.items())"
   ]
  }
 ],
 "metadata": {
  "kernelspec": {
   "display_name": ".venv",
   "language": "python",
   "name": "python3"
  },
  "language_info": {
   "codemirror_mode": {
    "name": "ipython",
    "version": 3
   },
   "file_extension": ".py",
   "mimetype": "text/x-python",
   "name": "python",
   "nbconvert_exporter": "python",
   "pygments_lexer": "ipython3",
   "version": "3.12.9"
  }
 },
 "nbformat": 4,
 "nbformat_minor": 2
}
