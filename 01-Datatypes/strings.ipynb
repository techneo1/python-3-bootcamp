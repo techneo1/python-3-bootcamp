{
 "cells": [
  {
   "cell_type": "code",
   "execution_count": null,
   "metadata": {},
   "outputs": [
    {
     "name": "stdout",
     "output_type": "stream",
     "text": [
      "abcdefghijk lmnopqrstuvw xyz\n",
      "acegiklnprtv y\n",
      "zyx wvutsrqponml kjihgfedcba\n",
      "y\n",
      "y\n",
      "JOHN\n",
      "John\n",
      "Johny\n",
      "23\n",
      "zzzz\n",
      "222\n"
     ]
    }
   ],
   "source": [
    "# Strings in Python\n",
    "mystring = \"abcdefghijk lmnopqrstuvw xyz\" # Assigning a string to a variable\n",
    "print(mystring) # Printing the string\n",
    "print(len(mystring))   # Finding the length of the string\n",
    "\n",
    "print(mystring[:5:2]) # Slicing the string from index 3 to 10 with a step of 2\n",
    "print(mystring[::2]) # Slicing the string from index 0 to the end with a step of 2\n",
    "print(mystring[::-1]) # Reversing the string\n",
    "\n",
    "print(mystring[26]) # Extracting character \"y\"\n",
    "print(mystring[-2]) # Extracting characters \"y\" from reverse string\n",
    "\n",
    "name = \"John\"\n",
    "#name[0] = \"P\"   # TypeError! because strings are IMMUTABLE\n",
    "print(name.upper());\n",
    "print(name); # Original string is unchanged\n",
    " \n",
    "print(name[0] + 'ohny') # Concatenating strings\n",
    "print('2'+'3') # Concatenating strings\n",
    "\n",
    "print('z' * 4) # Repeating strings\n",
    "print('2' * 3) # Repeating strings\n"
   ]
  },
  {
   "cell_type": "code",
   "execution_count": null,
   "metadata": {},
   "outputs": [
    {
     "data": {
      "text/plain": [
       "['Here', 'is', 'a', 'string']"
      ]
     },
     "execution_count": 33,
     "metadata": {},
     "output_type": "execute_result"
    }
   ],
   "source": [
    "x = \"Here is a string\"\n",
    "print(x.upper()) # Calling the upper() method\n",
    "print(x) # Original string is unchanged\n",
    "\n",
    "x.split(\" \") # Calling the upper() method"
   ]
  },
  {
   "cell_type": "code",
   "execution_count": 42,
   "metadata": {},
   "outputs": [
    {
     "name": "stdout",
     "output_type": "stream",
     "text": [
      "This is a string INSERTED\n",
      "The quick brown fox\n",
      "The quick brown fox\n",
      "The quick brown fox\n",
      "The result is       1.23\n"
     ]
    }
   ],
   "source": [
    "print('This is a string {}'.format(\"INSERTED\")) # Using format() method\n",
    "print('The {} {} {}'.format(\"quick\", \"brown\", \"fox\")) # Using format() method\n",
    "print('The {2} {1} {0}'.format(\"fox\", \"brown\", \"quick\")) # Using format() method\n",
    "print('The {q} {b} {f}'.format(f=\"fox\", b=\"brown\", q=\"quick\")) # Using format() method\n",
    "\n",
    "#{value:{width}.{precision}f}\n",
    "print(\"The result is {r:10.2f}\".format(r=1.23456789)) # Using format() method"
   ]
  },
  {
   "cell_type": "code",
   "execution_count": 45,
   "metadata": {},
   "outputs": [
    {
     "name": "stdout",
     "output_type": "stream",
     "text": [
      "My name is Srikanth\n",
      "My name is Srikanth\n",
      "My name is Srikanth\n",
      "My name is Srikanth\n"
     ]
    }
   ],
   "source": [
    "name = 'Srikanth'\n",
    "print('My name is {}'.format(name)) # Using format() method\n",
    "print('My name is {0}'.format(name)) # Using format() method\n",
    "\n",
    "print('My name is %s' % name) # Using % operator\n",
    "\n",
    "print(f'My name is {name}') # Using format() method"
   ]
  }
 ],
 "metadata": {
  "kernelspec": {
   "display_name": ".venv",
   "language": "python",
   "name": "python3"
  },
  "language_info": {
   "codemirror_mode": {
    "name": "ipython",
    "version": 3
   },
   "file_extension": ".py",
   "mimetype": "text/x-python",
   "name": "python",
   "nbconvert_exporter": "python",
   "pygments_lexer": "ipython3",
   "version": "3.12.9"
  }
 },
 "nbformat": 4,
 "nbformat_minor": 2
}
